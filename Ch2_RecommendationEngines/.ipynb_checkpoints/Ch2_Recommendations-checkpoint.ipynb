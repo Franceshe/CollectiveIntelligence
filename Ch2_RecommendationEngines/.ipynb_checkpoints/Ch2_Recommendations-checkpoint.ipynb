{
 "cells": [
  {
   "cell_type": "code",
   "execution_count": 12,
   "metadata": {},
   "outputs": [],
   "source": [
    "# A dictionary of movie critics and their ratings of a small set of movies\n",
    "\n",
    "critics={'Lisa Rose': {'Lady in the Water': 2.5, 'Snakes on a Plane': 3.5,\n",
    "'Just My Luck': 3.0, 'Superman Returns': 3.5, 'You, Me and Dupree': 2.5,\n",
    "'The Night Listener': 3.0},\n",
    "'Gene Seymour': {'Lady in the Water': 3.0, 'Snakes on a Plane': 3.5,\n",
    "'Just My Luck': 1.5, 'Superman Returns': 5.0, 'The Night Listener': 3.0,\n",
    "'You, Me and Dupree': 3.5},\n",
    "'Michael Phillips': {'Lady in the Water': 2.5, 'Snakes on a Plane': 3.0,\n",
    "'Superman Returns': 3.5, 'The Night Listener': 4.0},\n",
    "'Claudia Puig': {'Snakes on a Plane': 3.5, 'Just My Luck': 3.0,\n",
    "'The Night Listener': 4.5, 'Superman Returns': 4.0,\n",
    "'You, Me and Dupree': 2.5},\n",
    "'Mick LaSalle': {'Lady in the Water': 3.0, 'Snakes on a Plane': 4.0,\n",
    "'Just My Luck': 2.0, 'Superman Returns': 3.0, 'The Night Listener': 3.0,\n",
    "'You, Me and Dupree': 2.0},\n",
    "'Jack Matthews': {'Lady in the Water': 3.0, 'Snakes on a Plane': 4.0,\n",
    "'The Night Listener': 3.0, 'Superman Returns': 5.0, 'You, Me and Dupree': 3.5},\n",
    "'Toby': {'Snakes on a Plane':4.5,'You, Me and Dupree':1.0,'Superman Returns':4.0}}"
   ]
  },
  {
   "cell_type": "code",
   "execution_count": 13,
   "metadata": {},
   "outputs": [
    {
     "data": {
      "text/plain": [
       "0.14814814814814814"
      ]
     },
     "execution_count": 13,
     "metadata": {},
     "output_type": "execute_result"
    }
   ],
   "source": [
    "# Euclidean distance score\n",
    "\n",
    "from math import sqrt\n",
    "\n",
    "# Return a distance-based similarity score for person 1 and person 2\n",
    "\n",
    "def sim_distance(prefs, person1, person2):\n",
    "    si = dict()\n",
    "    for item in prefs[person1]:\n",
    "        if item in prefs[person2]:\n",
    "            si[item]=1\n",
    "\n",
    "    if len(si)==0: return 0\n",
    "\n",
    "    # Add up the squares of all the differences\n",
    "    sum_of_squares = sum([pow(prefs[person1][item]-prefs[person2][item],2) for item in prefs[person1] if item in prefs[person2]])\n",
    "    return (1/(1+sum_of_squares))\n",
    "\n",
    "sim_distance(critics, 'Lisa Rose', 'Gene Seymour')"
   ]
  },
  {
   "cell_type": "code",
   "execution_count": 10,
   "metadata": {},
   "outputs": [
    {
     "data": {
      "text/plain": [
       "0.39605901719066977"
      ]
     },
     "execution_count": 10,
     "metadata": {},
     "output_type": "execute_result"
    }
   ],
   "source": [
    "\"\"\"Pearson correlation score - works better where the data isn't well normalized \n",
    "e.g. if critics are routinely more harsh than average. Pearson correlation score corrects for grade inflation (can still be\n",
    "perfect correlation if the difference between scores is consistent) whereas Euclidean score will say two critics are dissimilar\n",
    "because one is consistently harsher than the other, even if their tastes are very similar. \n",
    "Pearson correlation coefficient - how much variables change together divided by the product of how much they vary individually\"\"\"\n",
    "\n",
    "# Returns the Pearson correlation coefficient for person 1 and person 2\n",
    "\n",
    "def sim_pearson(prefs, p1, p2):\n",
    "    si = dict()\n",
    "    for item in prefs[p1]:\n",
    "        if item in prefs[p2]:\n",
    "            si[item]=1\n",
    "            \n",
    "    if len(si) == 0: return 0\n",
    "    \n",
    "    sum1 = sum([prefs[p1][it] for it in si])\n",
    "    sum2 = sum([prefs[p2][it] for it in si])\n",
    "    \n",
    "    sum1Sq = sum([pow(prefs[p1][it],2) for it in si])\n",
    "    sum2Sq = sum([pow(prefs[p2][it],2) for it in si])\n",
    "    \n",
    "    pSum = sum([prefs[p1][it]*prefs[p2][it] for it in si])\n",
    "    \n",
    "    num = pSum - ((sum1*sum2)/len(si))\n",
    "    den = sqrt((sum1Sq - pow(sum1,2)/len(si))*(sum2Sq-pow(sum2,2)/len(si)))\n",
    "    if den == 0: return 0\n",
    "    \n",
    "    I = num/den\n",
    "    \n",
    "    return I\n",
    "\n",
    "sim_pearson(critics, 'Lisa Rose', 'Gene Seymour')"
   ]
  },
  {
   "cell_type": "code",
   "execution_count": 14,
   "metadata": {},
   "outputs": [
    {
     "data": {
      "text/plain": [
       "[(0.9912407071619299, 'Lisa Rose'),\n",
       " (0.9244734516419049, 'Mick LaSalle'),\n",
       " (0.8934051474415647, 'Claudia Puig')]"
      ]
     },
     "execution_count": 14,
     "metadata": {},
     "output_type": "execute_result"
    }
   ],
   "source": [
    "# To get an ordered list of people with similar tastes to the specified person\n",
    "\n",
    "def topmatches(prefs, person, n=5, similarity = sim_pearson):\n",
    "    scores = [(similarity(prefs, person, other), other) for other in prefs if other!=person]\n",
    "    \n",
    "    scores.sort()\n",
    "    scores.reverse()\n",
    "    return scores[0:n]\n",
    "\n",
    "topmatches(critics, 'Toby', n=3)"
   ]
  },
  {
   "cell_type": "code",
   "execution_count": 15,
   "metadata": {},
   "outputs": [
    {
     "data": {
      "text/plain": [
       "[(3.3477895267131017, 'The Night Listener'),\n",
       " (2.8325499182641614, 'Lady in the Water'),\n",
       " (2.530980703765565, 'Just My Luck')]"
      ]
     },
     "execution_count": 15,
     "metadata": {},
     "output_type": "execute_result"
    }
   ],
   "source": [
    "# Get recommendations for a person by using a weighted average of every other user's rankings\n",
    "\n",
    "def getrecommendations(prefs, person, similarity = sim_pearson):\n",
    "    totals = dict()\n",
    "    simSums = dict()\n",
    "    \n",
    "    for other in prefs:\n",
    "        if other==person: continue\n",
    "        sim = similarity(prefs, person, other)\n",
    "        \n",
    "        if sim<=0: continue\n",
    "        for item in prefs[other]:\n",
    "            if item not in prefs[person] or prefs[person][item]==0:\n",
    "                totals.setdefault(item,0)\n",
    "                totals[item]+=prefs[other][item]*sim\n",
    "                \n",
    "                simSums.setdefault(item,0)\n",
    "                simSums[item]+=sim\n",
    "                \n",
    "    rankings = [(total/simSums[item],item) for item,total in totals.items()]\n",
    "    \n",
    "    rankings.sort()\n",
    "    rankings.reverse()\n",
    "    \n",
    "    return rankings\n",
    "\n",
    "getrecommendations(critics, 'Toby')"
   ]
  },
  {
   "cell_type": "code",
   "execution_count": 16,
   "metadata": {},
   "outputs": [
    {
     "data": {
      "text/plain": [
       "[(4.0, 'Michael Phillips'), (3.0, 'Jack Matthews')]"
      ]
     },
     "execution_count": 16,
     "metadata": {},
     "output_type": "execute_result"
    }
   ],
   "source": [
    "def transformprefs(prefs):\n",
    "    result=dict()\n",
    "    for person in prefs:\n",
    "        for item in prefs[person]:\n",
    "            result.setdefault(item,{})\n",
    "            result[item][person] = prefs[person][item]\n",
    "        \n",
    "    return result\n",
    "\n",
    "movies = transformprefs(critics)\n",
    "topmatches(movies, 'Superman Returns')\n",
    "getrecommendations(movies, 'Just My Luck')"
   ]
  },
  {
   "cell_type": "code",
   "execution_count": 17,
   "metadata": {},
   "outputs": [
    {
     "name": "stdout",
     "output_type": "stream",
     "text": [
      "{'Lady in the Water': [(0.4, 'You, Me and Dupree'), (0.2857142857142857, 'The Night Listener'), (0.2222222222222222, 'Snakes on a Plane'), (0.2222222222222222, 'Just My Luck'), (0.09090909090909091, 'Superman Returns')], 'Snakes on a Plane': [(0.2222222222222222, 'Lady in the Water'), (0.18181818181818182, 'The Night Listener'), (0.16666666666666666, 'Superman Returns'), (0.10526315789473684, 'Just My Luck'), (0.05128205128205128, 'You, Me and Dupree')], 'Just My Luck': [(0.2222222222222222, 'Lady in the Water'), (0.18181818181818182, 'You, Me and Dupree'), (0.15384615384615385, 'The Night Listener'), (0.10526315789473684, 'Snakes on a Plane'), (0.06451612903225806, 'Superman Returns')], 'Superman Returns': [(0.16666666666666666, 'Snakes on a Plane'), (0.10256410256410256, 'The Night Listener'), (0.09090909090909091, 'Lady in the Water'), (0.06451612903225806, 'Just My Luck'), (0.05333333333333334, 'You, Me and Dupree')], 'You, Me and Dupree': [(0.4, 'Lady in the Water'), (0.18181818181818182, 'Just My Luck'), (0.14814814814814814, 'The Night Listener'), (0.05333333333333334, 'Superman Returns'), (0.05128205128205128, 'Snakes on a Plane')], 'The Night Listener': [(0.2857142857142857, 'Lady in the Water'), (0.18181818181818182, 'Snakes on a Plane'), (0.15384615384615385, 'Just My Luck'), (0.14814814814814814, 'You, Me and Dupree'), (0.10256410256410256, 'Superman Returns')]}\n"
     ]
    }
   ],
   "source": [
    "#Use transformprefs to give a list of items with their user rating, then loop over every item through topmatches to get most \n",
    "# similar items along with their similarity scores\n",
    "# Item-based filtering outperforms user-based filtering in sparse datasets, perform equally in dense datasets. Item-based filtering\n",
    "# is significantly faster on a large dataset\n",
    "def calculateSimilarItems(prefs, n=10):\n",
    "    result = dict()\n",
    "    itemPrefs = transformprefs(prefs)\n",
    "    c=0\n",
    "    for item in itemPrefs:\n",
    "        c+=1\n",
    "        if c%100==0: print(c, len(itemPrefs))\n",
    "        scores = topmatches(itemPrefs, item, n=n, similarity = sim_distance)\n",
    "        result[item] = scores\n",
    "    return result\n",
    "\n",
    "itemsim = calculateSimilarItems(critics)\n",
    "print(itemsim)"
   ]
  },
  {
   "cell_type": "code",
   "execution_count": 18,
   "metadata": {},
   "outputs": [
    {
     "data": {
      "text/plain": [
       "[(3.182634730538922, 'The Night Listener'),\n",
       " (2.5983318700614575, 'Just My Luck'),\n",
       " (2.4730878186968837, 'Lady in the Water')]"
      ]
     },
     "execution_count": 18,
     "metadata": {},
     "output_type": "execute_result"
    }
   ],
   "source": [
    "# Give recommendations using the item similarity dictionary without going through the whole database\n",
    "\n",
    "def getRecommendedItems(prefs, itemMatch, user):\n",
    "    userRatings = prefs[user]\n",
    "    scores = dict()\n",
    "    totalSim = dict()\n",
    "    \n",
    "    # Loop over items rated by this user\n",
    "    for item, rating in userRatings.items():\n",
    "        # Loop over items similar to this one\n",
    "        for similarity, item2 in itemMatch[item]:\n",
    "            # Ignore if this user has already rated this item\n",
    "            if item2 in userRatings: continue\n",
    "            \n",
    "            # Weighted sum of rating times similarity\n",
    "            scores.setdefault(item2,0)\n",
    "            scores[item2]+=similarity*rating\n",
    "            \n",
    "            # Sum of all the similarities\n",
    "            totalSim.setdefault(item2,0)\n",
    "            totalSim[item2]+=similarity\n",
    "            \n",
    "    # Divide each total score by total weighting to get an average\n",
    "    rankings = [(score/totalSim[item],item) for item,score in scores.items()]\n",
    "        \n",
    "    # Return the rankings from highest to lowest\n",
    "    rankings.sort()\n",
    "    rankings.reverse()\n",
    "    return rankings    \n",
    "\n",
    "getRecommendedItems(critics, itemsim, 'Toby')    "
   ]
  },
  {
   "cell_type": "code",
   "execution_count": 25,
   "metadata": {},
   "outputs": [
    {
     "ename": "UnicodeDecodeError",
     "evalue": "'utf-8' codec can't decode byte 0xe9 in position 2892: invalid continuation byte",
     "output_type": "error",
     "traceback": [
      "\u001b[0;31m---------------------------------------------------------------------------\u001b[0m",
      "\u001b[0;31mUnicodeDecodeError\u001b[0m                        Traceback (most recent call last)",
      "\u001b[0;32m<ipython-input-25-88e95ec45d31>\u001b[0m in \u001b[0;36m<module>\u001b[0;34m\u001b[0m\n\u001b[1;32m     15\u001b[0m     \u001b[0;32mreturn\u001b[0m \u001b[0mprefs\u001b[0m\u001b[0;34m\u001b[0m\u001b[0;34m\u001b[0m\u001b[0m\n\u001b[1;32m     16\u001b[0m \u001b[0;34m\u001b[0m\u001b[0m\n\u001b[0;32m---> 17\u001b[0;31m \u001b[0mprefs\u001b[0m\u001b[0;34m=\u001b[0m\u001b[0mloadMovieLens\u001b[0m\u001b[0;34m(\u001b[0m\u001b[0;34m)\u001b[0m\u001b[0;34m\u001b[0m\u001b[0;34m\u001b[0m\u001b[0m\n\u001b[0m\u001b[1;32m     18\u001b[0m \u001b[0;31m#prefs['87']\u001b[0m\u001b[0;34m\u001b[0m\u001b[0;34m\u001b[0m\u001b[0;34m\u001b[0m\u001b[0m\n\u001b[1;32m     19\u001b[0m \u001b[0;31m#getrecommendations(prefs, '87')[0:30]\u001b[0m\u001b[0;34m\u001b[0m\u001b[0;34m\u001b[0m\u001b[0;34m\u001b[0m\u001b[0m\n",
      "\u001b[0;32m<ipython-input-25-88e95ec45d31>\u001b[0m in \u001b[0;36mloadMovieLens\u001b[0;34m(path)\u001b[0m\n\u001b[1;32m      4\u001b[0m \u001b[0;32mdef\u001b[0m \u001b[0mloadMovieLens\u001b[0m\u001b[0;34m(\u001b[0m\u001b[0mpath\u001b[0m \u001b[0;34m=\u001b[0m \u001b[0mnew_path\u001b[0m\u001b[0;34m)\u001b[0m\u001b[0;34m:\u001b[0m\u001b[0;34m\u001b[0m\u001b[0;34m\u001b[0m\u001b[0m\n\u001b[1;32m      5\u001b[0m     \u001b[0mmovies\u001b[0m \u001b[0;34m=\u001b[0m \u001b[0mdict\u001b[0m\u001b[0;34m(\u001b[0m\u001b[0;34m)\u001b[0m\u001b[0;34m\u001b[0m\u001b[0;34m\u001b[0m\u001b[0m\n\u001b[0;32m----> 6\u001b[0;31m     \u001b[0;32mfor\u001b[0m \u001b[0mline\u001b[0m \u001b[0;32min\u001b[0m \u001b[0mopen\u001b[0m\u001b[0;34m(\u001b[0m\u001b[0mpath\u001b[0m\u001b[0;34m+\u001b[0m\u001b[0;34m'/u.item'\u001b[0m\u001b[0;34m)\u001b[0m\u001b[0;34m:\u001b[0m\u001b[0;34m\u001b[0m\u001b[0;34m\u001b[0m\u001b[0m\n\u001b[0m\u001b[1;32m      7\u001b[0m         \u001b[0mid\u001b[0m\u001b[0;34m,\u001b[0m \u001b[0mtitle\u001b[0m \u001b[0;34m=\u001b[0m \u001b[0mline\u001b[0m\u001b[0;34m.\u001b[0m\u001b[0msplit\u001b[0m\u001b[0;34m(\u001b[0m\u001b[0;34m'|'\u001b[0m\u001b[0;34m)\u001b[0m\u001b[0;34m[\u001b[0m\u001b[0;36m0\u001b[0m\u001b[0;34m:\u001b[0m\u001b[0;36m2\u001b[0m\u001b[0;34m]\u001b[0m\u001b[0;34m\u001b[0m\u001b[0;34m\u001b[0m\u001b[0m\n\u001b[1;32m      8\u001b[0m         \u001b[0mmovies\u001b[0m\u001b[0;34m[\u001b[0m\u001b[0mid\u001b[0m\u001b[0;34m]\u001b[0m \u001b[0;34m=\u001b[0m \u001b[0mtitle\u001b[0m\u001b[0;34m\u001b[0m\u001b[0;34m\u001b[0m\u001b[0m\n",
      "\u001b[0;32m/usr/local/Cellar/python/3.7.5/Frameworks/Python.framework/Versions/3.7/lib/python3.7/codecs.py\u001b[0m in \u001b[0;36mdecode\u001b[0;34m(self, input, final)\u001b[0m\n\u001b[1;32m    320\u001b[0m         \u001b[0;31m# decode input (taking the buffer into account)\u001b[0m\u001b[0;34m\u001b[0m\u001b[0;34m\u001b[0m\u001b[0;34m\u001b[0m\u001b[0m\n\u001b[1;32m    321\u001b[0m         \u001b[0mdata\u001b[0m \u001b[0;34m=\u001b[0m \u001b[0mself\u001b[0m\u001b[0;34m.\u001b[0m\u001b[0mbuffer\u001b[0m \u001b[0;34m+\u001b[0m \u001b[0minput\u001b[0m\u001b[0;34m\u001b[0m\u001b[0;34m\u001b[0m\u001b[0m\n\u001b[0;32m--> 322\u001b[0;31m         \u001b[0;34m(\u001b[0m\u001b[0mresult\u001b[0m\u001b[0;34m,\u001b[0m \u001b[0mconsumed\u001b[0m\u001b[0;34m)\u001b[0m \u001b[0;34m=\u001b[0m \u001b[0mself\u001b[0m\u001b[0;34m.\u001b[0m\u001b[0m_buffer_decode\u001b[0m\u001b[0;34m(\u001b[0m\u001b[0mdata\u001b[0m\u001b[0;34m,\u001b[0m \u001b[0mself\u001b[0m\u001b[0;34m.\u001b[0m\u001b[0merrors\u001b[0m\u001b[0;34m,\u001b[0m \u001b[0mfinal\u001b[0m\u001b[0;34m)\u001b[0m\u001b[0;34m\u001b[0m\u001b[0;34m\u001b[0m\u001b[0m\n\u001b[0m\u001b[1;32m    323\u001b[0m         \u001b[0;31m# keep undecoded input until the next call\u001b[0m\u001b[0;34m\u001b[0m\u001b[0;34m\u001b[0m\u001b[0;34m\u001b[0m\u001b[0m\n\u001b[1;32m    324\u001b[0m         \u001b[0mself\u001b[0m\u001b[0;34m.\u001b[0m\u001b[0mbuffer\u001b[0m \u001b[0;34m=\u001b[0m \u001b[0mdata\u001b[0m\u001b[0;34m[\u001b[0m\u001b[0mconsumed\u001b[0m\u001b[0;34m:\u001b[0m\u001b[0;34m]\u001b[0m\u001b[0;34m\u001b[0m\u001b[0;34m\u001b[0m\u001b[0m\n",
      "\u001b[0;31mUnicodeDecodeError\u001b[0m: 'utf-8' codec can't decode byte 0xe9 in position 2892: invalid continuation byte"
     ]
    }
   ],
   "source": [
    "new_path = '/Users/siyunhe/project/Summer2020/SomerCloud/Algorithm/recommendation-system/Non-Deeplearning/Franceshe_fork/CollectiveIntelligence/Ch2_RecommendationEngines/data/movielens'\n",
    "\n",
    "#def loadMovieLens(path = '\\\\data\\\\movielens'):\n",
    "def loadMovieLens(path = new_path):\n",
    "    movies = dict()\n",
    "    for line in open(path+'/u.item', encoding = \"ISO-8859-1\"):\n",
    "        id, title = line.split('|')[0:2]\n",
    "        movies[id] = title\n",
    "        \n",
    "    prefs = dict()\n",
    "    for line in open(path+'/u.data'):\n",
    "        user, movieid, rating, ts = line.split('\\t')\n",
    "        prefs.setdefault(user,{})\n",
    "        prefs[user][movies[movieid]] = float(rating)\n",
    "    return prefs\n",
    "\n",
    "prefs=loadMovieLens()\n",
    "#prefs['87']\n",
    "#getrecommendations(prefs, '87')[0:30]\n",
    "itemsim = calculateSimilarItems(prefs, n=50)\n",
    "getRecommendedItems(prefs, itemsim, '87')[0:30]"
   ]
  },
  {
   "cell_type": "code",
   "execution_count": null,
   "metadata": {
    "collapsed": true
   },
   "outputs": [],
   "source": []
  }
 ],
 "metadata": {
  "kernelspec": {
   "display_name": "Python 3",
   "language": "python",
   "name": "python3"
  },
  "language_info": {
   "codemirror_mode": {
    "name": "ipython",
    "version": 3
   },
   "file_extension": ".py",
   "mimetype": "text/x-python",
   "name": "python",
   "nbconvert_exporter": "python",
   "pygments_lexer": "ipython3",
   "version": "3.7.5"
  }
 },
 "nbformat": 4,
 "nbformat_minor": 1
}
